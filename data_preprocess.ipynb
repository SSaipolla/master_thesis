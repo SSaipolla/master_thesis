{
 "cells": [
  {
   "cell_type": "code",
   "execution_count": 1,
   "id": "e047afa9-013e-4dd3-a4eb-986e7ca5f249",
   "metadata": {},
   "outputs": [],
   "source": [
    "import numpy as np\n",
    "import pandas as pd\n",
    "\n",
    "import os"
   ]
  },
  {
   "cell_type": "code",
   "execution_count": 2,
   "id": "d321b16f-c9f2-400e-a35e-aef38a2ab0df",
   "metadata": {},
   "outputs": [],
   "source": [
    "pd.set_option('display.max_colwidth', None)"
   ]
  },
  {
   "cell_type": "code",
   "execution_count": 3,
   "id": "0991b744-7dce-4246-bbec-7abac474a16b",
   "metadata": {},
   "outputs": [],
   "source": [
    "ravdess = \"/Users/muchacho/Desktop/master_code/dataset/ravdess/audio_speech_actors_01-24/\"\n",
    "crema = \"/Users/muchacho/Desktop/master_code/dataset/crema/\"\n",
    "savee = \"/Users/muchacho/Desktop/master_code/dataset/savee/\"\n",
    "tess = \"/Users/muchacho/Desktop/master_code/dataset/tess/TESS_Toronto_emotional_speech_set_data/\""
   ]
  },
  {
   "cell_type": "code",
   "execution_count": 4,
   "id": "ba1f6537-4377-4ff1-9a19-6520e2c889ee",
   "metadata": {},
   "outputs": [],
   "source": [
    "ravdess_dataset_actors = os.listdir(ravdess)\n",
    "\n",
    "emotion_file = []\n",
    "path_file = []\n",
    "\n",
    "for directory in ravdess_dataset_actors:\n",
    "    if not directory.startswith('.'):\n",
    "        actor = os.listdir(ravdess + directory)\n",
    "        for file in actor:\n",
    "            filename = file.split('.')[0]\n",
    "            emotion = filename.split('-')\n",
    "            \n",
    "            emotion_file.append(int(emotion[2]))\n",
    "            path_file.append(ravdess + directory + '/' + file)\n",
    "            \n",
    "emotion_dataframe = pd.DataFrame(emotion_file, columns = ['Emotions'])\n",
    "path_dataframe = pd.DataFrame(path_file, columns = ['Path'])\n",
    "\n",
    "ravdes_dataframe = pd.concat([emotion_dataframe, path_dataframe], axis=1)\n",
    "ravdes_dataframe.Emotions.replace({1:'neutral', 2:'calm', 3:'happy', 4:'sad', 5:'angry', 6:'fear', 7:'disgust', 8:'surprise'}, inplace=True)\n",
    "ravdes_dataframe.head()\n",
    "ravdes_dataframe.to_csv(\"ravdes.csv\", index = False)"
   ]
  },
  {
   "cell_type": "code",
   "execution_count": 5,
   "id": "44546777-fd4b-4caa-8aa0-31805d50d524",
   "metadata": {},
   "outputs": [],
   "source": [
    "crema_dataset = os.listdir(crema)\n",
    "\n",
    "emotion_file = []\n",
    "path_file = []\n",
    "\n",
    "for file in crema_dataset:\n",
    "    path_file.append(crema + file)\n",
    "    part=file.split('_')\n",
    "    if part[2] == 'SAD':\n",
    "        emotion_file.append('sad')\n",
    "    elif part[2] == 'ANG':\n",
    "        emotion_file.append('angry')\n",
    "    elif part[2] == 'DIS':\n",
    "        emotion_file.append('disgust')\n",
    "    elif part[2] == 'FEA':\n",
    "        emotion_file.append('fear')\n",
    "    elif part[2] == 'HAP':\n",
    "        emotion_file.append('happy')\n",
    "    elif part[2] == 'NEU':\n",
    "        emotion_file.append('neutral')\n",
    "    else:\n",
    "        emotion_file.append('Unknown')\n",
    "        \n",
    "\n",
    "emotion_df = pd.DataFrame(emotion_file, columns=['Emotions'])\n",
    "\n",
    "\n",
    "path_df = pd.DataFrame(path_file, columns=['Path'])\n",
    "crema_dataframe = pd.concat([emotion_df, path_df], axis=1)\n",
    "crema_dataframe.head()\n",
    "crema_dataframe.to_csv(\"crema.csv\", index = False)"
   ]
  },
  {
   "cell_type": "code",
   "execution_count": 6,
   "id": "ee154d41-6b47-4c31-9a36-d32dbfba1a7f",
   "metadata": {},
   "outputs": [],
   "source": [
    "savee_dataset = os.listdir(savee)\n",
    "\n",
    "emotion_file = []\n",
    "path_file = []\n",
    "\n",
    "for file in savee_dataset:\n",
    "    path_file.append(savee + file)\n",
    "    part = file.split('_')[1]\n",
    "    emotion = part[:-6]\n",
    "    if emotion=='a':\n",
    "        emotion_file.append('angry')\n",
    "    elif emotion=='d':\n",
    "        emotion_file.append('disgust')\n",
    "    elif emotion=='f':\n",
    "        emotion_file.append('fear')\n",
    "    elif emotion=='h':\n",
    "        emotion_file.append('happy')\n",
    "    elif emotion=='n':\n",
    "        emotion_file.append('neutral')\n",
    "    elif emotion=='sa':\n",
    "        emotion_file.append('sad')\n",
    "    else:\n",
    "        emotion_file.append('surprise')\n",
    "        \n",
    "emotion_df = pd.DataFrame(emotion_file, columns=['Emotions'])\n",
    "\n",
    "path_df = pd.DataFrame(path_file, columns=['Path'])\n",
    "savee_dataframe = pd.concat([emotion_df, path_df], axis=1)\n",
    "savee_dataframe.head()\n",
    "savee_dataframe.to_csv(\"savee.csv\", index = False)"
   ]
  },
  {
   "cell_type": "code",
   "execution_count": 7,
   "id": "d82976e2-8b7e-450a-94b3-3d850a7d699f",
   "metadata": {},
   "outputs": [],
   "source": [
    "tess_dataset = os.listdir(tess)\n",
    "\n",
    "\n",
    "emotion_file = []\n",
    "path_file = []\n",
    "\n",
    "for directory in tess_dataset:\n",
    "    if not directory.startswith('.'):\n",
    "        directories = os.listdir(tess + directory)\n",
    "        for file in directories:\n",
    "            part = file.split('.')[0]\n",
    "            part = part.split('_')[2]\n",
    "            if part=='ps':\n",
    "                emotion_file.append('surprise')\n",
    "            else:\n",
    "                emotion_file.append(part)\n",
    "            path_file.append(tess + directory + '/' + file)\n",
    "        \n",
    "# dataframe for emotion of files\n",
    "emotion_df = pd.DataFrame(emotion_file, columns=['Emotions'])\n",
    "\n",
    "# dataframe for path of files.\n",
    "path_df = pd.DataFrame(path_file, columns=['Path'])\n",
    "tess_dataframe = pd.concat([emotion_df, path_df], axis=1)\n",
    "tess_dataframe.head()\n",
    "tess_dataframe.to_csv(\"tess.csv\", index = False)"
   ]
  },
  {
   "cell_type": "code",
   "execution_count": 8,
   "id": "2ed478b1-129b-4b58-9503-5eec54924975",
   "metadata": {},
   "outputs": [
    {
     "data": {
      "text/html": [
       "<div>\n",
       "<style scoped>\n",
       "    .dataframe tbody tr th:only-of-type {\n",
       "        vertical-align: middle;\n",
       "    }\n",
       "\n",
       "    .dataframe tbody tr th {\n",
       "        vertical-align: top;\n",
       "    }\n",
       "\n",
       "    .dataframe thead th {\n",
       "        text-align: right;\n",
       "    }\n",
       "</style>\n",
       "<table border=\"1\" class=\"dataframe\">\n",
       "  <thead>\n",
       "    <tr style=\"text-align: right;\">\n",
       "      <th></th>\n",
       "      <th>Emotions</th>\n",
       "      <th>Path</th>\n",
       "    </tr>\n",
       "  </thead>\n",
       "  <tbody>\n",
       "    <tr>\n",
       "      <th>0</th>\n",
       "      <td>angry</td>\n",
       "      <td>/Users/muchacho/Desktop/master_code/dataset/ravdess/audio_speech_actors_01-24/Actor_16/03-01-05-01-02-01-16.wav</td>\n",
       "    </tr>\n",
       "    <tr>\n",
       "      <th>1</th>\n",
       "      <td>fear</td>\n",
       "      <td>/Users/muchacho/Desktop/master_code/dataset/ravdess/audio_speech_actors_01-24/Actor_16/03-01-06-01-02-02-16.wav</td>\n",
       "    </tr>\n",
       "    <tr>\n",
       "      <th>2</th>\n",
       "      <td>fear</td>\n",
       "      <td>/Users/muchacho/Desktop/master_code/dataset/ravdess/audio_speech_actors_01-24/Actor_16/03-01-06-02-01-02-16.wav</td>\n",
       "    </tr>\n",
       "    <tr>\n",
       "      <th>3</th>\n",
       "      <td>angry</td>\n",
       "      <td>/Users/muchacho/Desktop/master_code/dataset/ravdess/audio_speech_actors_01-24/Actor_16/03-01-05-02-01-01-16.wav</td>\n",
       "    </tr>\n",
       "    <tr>\n",
       "      <th>4</th>\n",
       "      <td>disgust</td>\n",
       "      <td>/Users/muchacho/Desktop/master_code/dataset/ravdess/audio_speech_actors_01-24/Actor_16/03-01-07-01-01-01-16.wav</td>\n",
       "    </tr>\n",
       "    <tr>\n",
       "      <th>...</th>\n",
       "      <td>...</td>\n",
       "      <td>...</td>\n",
       "    </tr>\n",
       "    <tr>\n",
       "      <th>2795</th>\n",
       "      <td>sad</td>\n",
       "      <td>/Users/muchacho/Desktop/master_code/dataset/tess/TESS_Toronto_emotional_speech_set_data/OAF_Sad/OAF_tool_sad.wav</td>\n",
       "    </tr>\n",
       "    <tr>\n",
       "      <th>2796</th>\n",
       "      <td>sad</td>\n",
       "      <td>/Users/muchacho/Desktop/master_code/dataset/tess/TESS_Toronto_emotional_speech_set_data/OAF_Sad/OAF_goose_sad.wav</td>\n",
       "    </tr>\n",
       "    <tr>\n",
       "      <th>2797</th>\n",
       "      <td>sad</td>\n",
       "      <td>/Users/muchacho/Desktop/master_code/dataset/tess/TESS_Toronto_emotional_speech_set_data/OAF_Sad/OAF_met_sad.wav</td>\n",
       "    </tr>\n",
       "    <tr>\n",
       "      <th>2798</th>\n",
       "      <td>sad</td>\n",
       "      <td>/Users/muchacho/Desktop/master_code/dataset/tess/TESS_Toronto_emotional_speech_set_data/OAF_Sad/OAF_pearl_sad.wav</td>\n",
       "    </tr>\n",
       "    <tr>\n",
       "      <th>2799</th>\n",
       "      <td>sad</td>\n",
       "      <td>/Users/muchacho/Desktop/master_code/dataset/tess/TESS_Toronto_emotional_speech_set_data/OAF_Sad/OAF_rain_sad.wav</td>\n",
       "    </tr>\n",
       "  </tbody>\n",
       "</table>\n",
       "<p>12162 rows × 2 columns</p>\n",
       "</div>"
      ],
      "text/plain": [
       "     Emotions  \\\n",
       "0       angry   \n",
       "1        fear   \n",
       "2        fear   \n",
       "3       angry   \n",
       "4     disgust   \n",
       "...       ...   \n",
       "2795      sad   \n",
       "2796      sad   \n",
       "2797      sad   \n",
       "2798      sad   \n",
       "2799      sad   \n",
       "\n",
       "                                                                                                                   Path  \n",
       "0       /Users/muchacho/Desktop/master_code/dataset/ravdess/audio_speech_actors_01-24/Actor_16/03-01-05-01-02-01-16.wav  \n",
       "1       /Users/muchacho/Desktop/master_code/dataset/ravdess/audio_speech_actors_01-24/Actor_16/03-01-06-01-02-02-16.wav  \n",
       "2       /Users/muchacho/Desktop/master_code/dataset/ravdess/audio_speech_actors_01-24/Actor_16/03-01-06-02-01-02-16.wav  \n",
       "3       /Users/muchacho/Desktop/master_code/dataset/ravdess/audio_speech_actors_01-24/Actor_16/03-01-05-02-01-01-16.wav  \n",
       "4       /Users/muchacho/Desktop/master_code/dataset/ravdess/audio_speech_actors_01-24/Actor_16/03-01-07-01-01-01-16.wav  \n",
       "...                                                                                                                 ...  \n",
       "2795   /Users/muchacho/Desktop/master_code/dataset/tess/TESS_Toronto_emotional_speech_set_data/OAF_Sad/OAF_tool_sad.wav  \n",
       "2796  /Users/muchacho/Desktop/master_code/dataset/tess/TESS_Toronto_emotional_speech_set_data/OAF_Sad/OAF_goose_sad.wav  \n",
       "2797    /Users/muchacho/Desktop/master_code/dataset/tess/TESS_Toronto_emotional_speech_set_data/OAF_Sad/OAF_met_sad.wav  \n",
       "2798  /Users/muchacho/Desktop/master_code/dataset/tess/TESS_Toronto_emotional_speech_set_data/OAF_Sad/OAF_pearl_sad.wav  \n",
       "2799   /Users/muchacho/Desktop/master_code/dataset/tess/TESS_Toronto_emotional_speech_set_data/OAF_Sad/OAF_rain_sad.wav  \n",
       "\n",
       "[12162 rows x 2 columns]"
      ]
     },
     "execution_count": 8,
     "metadata": {},
     "output_type": "execute_result"
    }
   ],
   "source": [
    "dataset_path = pd.concat([ravdes_dataframe, crema_dataframe, savee_dataframe, tess_dataframe], axis = 0)\n",
    "dataset_path.to_csv(\"dataset_path.csv\", index = False)\n",
    "dataset_path"
   ]
  },
  {
   "cell_type": "code",
   "execution_count": 9,
   "id": "50104164-32a5-4f08-83ff-f729c7e8d5c9",
   "metadata": {},
   "outputs": [
    {
     "data": {
      "text/plain": [
       "array(['angry', 'fear', 'disgust', 'sad', 'surprise', 'happy', 'calm',\n",
       "       'neutral'], dtype=object)"
      ]
     },
     "execution_count": 9,
     "metadata": {},
     "output_type": "execute_result"
    }
   ],
   "source": [
    "dataset_path.Emotions.unique()"
   ]
  },
  {
   "cell_type": "code",
   "execution_count": 4,
   "id": "401d22d6-fda5-400b-bdbc-e6a6bb9f2d8c",
   "metadata": {},
   "outputs": [],
   "source": [
    "import librosa\n",
    "import matplotlib.pyplot as plt"
   ]
  },
  {
   "cell_type": "code",
   "execution_count": 21,
   "id": "78b42c50-96b6-49ca-8f4d-0462b25492b4",
   "metadata": {},
   "outputs": [],
   "source": [
    "def spectrogram_creator(audio_path, spcr_folder_path):\n",
    "    img_name = str(audio_path).split('.')[0]\n",
    "    img_name = img_name.split('/')[-1]\n",
    "    x, sr = librosa.load(audio_path, sr=44100)\n",
    "    X = librosa.stft(x)\n",
    "    Xdb = librosa.amplitude_to_db(abs(X))\n",
    "    plt.figure(figsize=(14, 5))\n",
    "    librosa.display.specshow(Xdb, sr = sr)\n",
    "    plt.savefig(spcr_folder_path + f\"{img_name}.png\")"
   ]
  },
  {
   "cell_type": "code",
   "execution_count": null,
   "id": "81665056-109b-4982-8946-ddc535818605",
   "metadata": {},
   "outputs": [
    {
     "name": "stderr",
     "output_type": "stream",
     "text": [
      "/var/folders/l3/k2b0tcb951jc_r6cz5lvtl0c0000gn/T/ipykernel_2717/6665188.py:7: RuntimeWarning: More than 20 figures have been opened. Figures created through the pyplot interface (`matplotlib.pyplot.figure`) are retained until explicitly closed and may consume too much memory. (To control this warning, see the rcParam `figure.max_open_warning`).\n",
      "  plt.figure(figsize=(14, 5))\n"
     ]
    }
   ],
   "source": [
    "import csv\n",
    "with open('dataset_path.csv') as csv_file:\n",
    "    csv_reader = csv.DictReader(csv_file)\n",
    "    for row in csv_reader:\n",
    "        if row[\"Emotions\"] == \"angry\":\n",
    "            spectrogram_creator(row[\"Path\"], \"/Users/muchacho/Desktop/master_code/spcr_dataset/angry/\")\n",
    "        elif row[\"Emotions\"] == \"fear\":\n",
    "            spectrogram_creator(row[\"Path\"], \"/Users/muchacho/Desktop/master_code/spcr_dataset/fear/\")\n",
    "        elif row[\"Emotions\"] == \"disgust\":\n",
    "            spectrogram_creator(row[\"Path\"], \"/Users/muchacho/Desktop/master_code/spcr_dataset/disgust/\")\n",
    "        elif row[\"Emotions\"] == \"sad\":\n",
    "            spectrogram_creator(row[\"Path\"], \"/Users/muchacho/Desktop/master_code/spcr_dataset/sad/\")\n",
    "        elif row[\"Emotions\"] == \"surprise\":\n",
    "            spectrogram_creator(row[\"Path\"], \"/Users/muchacho/Desktop/master_code/spcr_dataset/surprise/\")\n",
    "        elif row[\"Emotions\"] == \"happy\":\n",
    "            spectrogram_creator(row[\"Path\"], \"/Users/muchacho/Desktop/master_code/spcr_dataset/happy/\")\n",
    "        elif row[\"Emotions\"] == \"calm\":\n",
    "            spectrogram_creator(row[\"Path\"], \"/Users/muchacho/Desktop/master_code/spcr_dataset/calm/\")\n",
    "        elif row[\"Emotions\"] == \"neutral\":\n",
    "            spectrogram_creator(row[\"Path\"], \"/Users/muchacho/Desktop/master_code/spcr_dataset/neutral/\")\n",
    "        else:\n",
    "            continue"
   ]
  },
  {
   "cell_type": "code",
   "execution_count": null,
   "id": "a92b820b-83ff-47c9-b792-840772df00d9",
   "metadata": {},
   "outputs": [],
   "source": [
    "['dataset', 'ravdess', 'audio_speech_actors_01-24']"
   ]
  }
 ],
 "metadata": {
  "kernelspec": {
   "display_name": "Python 3 (ipykernel)",
   "language": "python",
   "name": "python3"
  },
  "language_info": {
   "codemirror_mode": {
    "name": "ipython",
    "version": 3
   },
   "file_extension": ".py",
   "mimetype": "text/x-python",
   "name": "python",
   "nbconvert_exporter": "python",
   "pygments_lexer": "ipython3",
   "version": "3.8.12"
  }
 },
 "nbformat": 4,
 "nbformat_minor": 5
}
